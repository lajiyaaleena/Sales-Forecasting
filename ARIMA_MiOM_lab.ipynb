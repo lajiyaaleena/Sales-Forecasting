{
 "cells": [
  {
   "cell_type": "code",
   "execution_count": 1,
   "id": "1648e3d8",
   "metadata": {},
   "outputs": [],
   "source": [
    "import numpy as np\n",
    "\n",
    "import pandas as pd\n",
    "import matplotlib.pyplot as plt\n",
    "import statsmodels.api as sm"
   ]
  },
  {
   "cell_type": "markdown",
   "id": "3b4d430c",
   "metadata": {},
   "source": [
    "# Data Preparation"
   ]
  },
  {
   "cell_type": "code",
   "execution_count": 2,
   "id": "4b6f9c77",
   "metadata": {},
   "outputs": [],
   "source": [
    "df=pd.read_csv(r\"C:\\Users\\HP\\Downloads\\train.csv\\train.csv\")"
   ]
  },
  {
   "cell_type": "code",
   "execution_count": 3,
   "id": "1058f7bd",
   "metadata": {},
   "outputs": [],
   "source": [
    "holiday_events=pd.read_csv(r\"C:\\Users\\HP\\Downloads\\holidays_events.csv\")"
   ]
  },
  {
   "cell_type": "code",
   "execution_count": 4,
   "id": "7f850c6c",
   "metadata": {},
   "outputs": [],
   "source": [
    "oil=pd.read_csv(r\"C:\\Users\\HP\\Downloads\\oil.csv\")"
   ]
  },
  {
   "cell_type": "code",
   "execution_count": 5,
   "id": "b2eec7d7",
   "metadata": {},
   "outputs": [],
   "source": [
    "stores=pd.read_csv(r\"C:\\Users\\HP\\Downloads\\stores.csv\")"
   ]
  },
  {
   "cell_type": "code",
   "execution_count": 6,
   "id": "c0c68677",
   "metadata": {},
   "outputs": [
    {
     "data": {
      "text/html": [
       "<div>\n",
       "<style scoped>\n",
       "    .dataframe tbody tr th:only-of-type {\n",
       "        vertical-align: middle;\n",
       "    }\n",
       "\n",
       "    .dataframe tbody tr th {\n",
       "        vertical-align: top;\n",
       "    }\n",
       "\n",
       "    .dataframe thead th {\n",
       "        text-align: right;\n",
       "    }\n",
       "</style>\n",
       "<table border=\"1\" class=\"dataframe\">\n",
       "  <thead>\n",
       "    <tr style=\"text-align: right;\">\n",
       "      <th></th>\n",
       "      <th>id</th>\n",
       "      <th>date</th>\n",
       "      <th>store_nbr</th>\n",
       "      <th>family</th>\n",
       "      <th>sales</th>\n",
       "      <th>onpromotion</th>\n",
       "    </tr>\n",
       "  </thead>\n",
       "  <tbody>\n",
       "    <tr>\n",
       "      <th>0</th>\n",
       "      <td>0</td>\n",
       "      <td>2013-01-01</td>\n",
       "      <td>1</td>\n",
       "      <td>AUTOMOTIVE</td>\n",
       "      <td>0.0</td>\n",
       "      <td>0</td>\n",
       "    </tr>\n",
       "    <tr>\n",
       "      <th>1</th>\n",
       "      <td>1</td>\n",
       "      <td>2013-01-01</td>\n",
       "      <td>1</td>\n",
       "      <td>BABY CARE</td>\n",
       "      <td>0.0</td>\n",
       "      <td>0</td>\n",
       "    </tr>\n",
       "    <tr>\n",
       "      <th>2</th>\n",
       "      <td>2</td>\n",
       "      <td>2013-01-01</td>\n",
       "      <td>1</td>\n",
       "      <td>BEAUTY</td>\n",
       "      <td>0.0</td>\n",
       "      <td>0</td>\n",
       "    </tr>\n",
       "    <tr>\n",
       "      <th>3</th>\n",
       "      <td>3</td>\n",
       "      <td>2013-01-01</td>\n",
       "      <td>1</td>\n",
       "      <td>BEVERAGES</td>\n",
       "      <td>0.0</td>\n",
       "      <td>0</td>\n",
       "    </tr>\n",
       "    <tr>\n",
       "      <th>4</th>\n",
       "      <td>4</td>\n",
       "      <td>2013-01-01</td>\n",
       "      <td>1</td>\n",
       "      <td>BOOKS</td>\n",
       "      <td>0.0</td>\n",
       "      <td>0</td>\n",
       "    </tr>\n",
       "  </tbody>\n",
       "</table>\n",
       "</div>"
      ],
      "text/plain": [
       "   id        date  store_nbr      family  sales  onpromotion\n",
       "0   0  2013-01-01          1  AUTOMOTIVE    0.0            0\n",
       "1   1  2013-01-01          1   BABY CARE    0.0            0\n",
       "2   2  2013-01-01          1      BEAUTY    0.0            0\n",
       "3   3  2013-01-01          1   BEVERAGES    0.0            0\n",
       "4   4  2013-01-01          1       BOOKS    0.0            0"
      ]
     },
     "execution_count": 6,
     "metadata": {},
     "output_type": "execute_result"
    }
   ],
   "source": [
    "df.head()"
   ]
  },
  {
   "cell_type": "code",
   "execution_count": 7,
   "id": "2599cedf",
   "metadata": {},
   "outputs": [
    {
     "data": {
      "text/html": [
       "<div>\n",
       "<style scoped>\n",
       "    .dataframe tbody tr th:only-of-type {\n",
       "        vertical-align: middle;\n",
       "    }\n",
       "\n",
       "    .dataframe tbody tr th {\n",
       "        vertical-align: top;\n",
       "    }\n",
       "\n",
       "    .dataframe thead th {\n",
       "        text-align: right;\n",
       "    }\n",
       "</style>\n",
       "<table border=\"1\" class=\"dataframe\">\n",
       "  <thead>\n",
       "    <tr style=\"text-align: right;\">\n",
       "      <th></th>\n",
       "      <th>date</th>\n",
       "      <th>type</th>\n",
       "      <th>locale</th>\n",
       "      <th>locale_name</th>\n",
       "      <th>description</th>\n",
       "      <th>transferred</th>\n",
       "    </tr>\n",
       "  </thead>\n",
       "  <tbody>\n",
       "    <tr>\n",
       "      <th>0</th>\n",
       "      <td>2012-03-02</td>\n",
       "      <td>Holiday</td>\n",
       "      <td>Local</td>\n",
       "      <td>Manta</td>\n",
       "      <td>Fundacion de Manta</td>\n",
       "      <td>False</td>\n",
       "    </tr>\n",
       "    <tr>\n",
       "      <th>1</th>\n",
       "      <td>2012-04-01</td>\n",
       "      <td>Holiday</td>\n",
       "      <td>Regional</td>\n",
       "      <td>Cotopaxi</td>\n",
       "      <td>Provincializacion de Cotopaxi</td>\n",
       "      <td>False</td>\n",
       "    </tr>\n",
       "    <tr>\n",
       "      <th>2</th>\n",
       "      <td>2012-04-12</td>\n",
       "      <td>Holiday</td>\n",
       "      <td>Local</td>\n",
       "      <td>Cuenca</td>\n",
       "      <td>Fundacion de Cuenca</td>\n",
       "      <td>False</td>\n",
       "    </tr>\n",
       "    <tr>\n",
       "      <th>3</th>\n",
       "      <td>2012-04-14</td>\n",
       "      <td>Holiday</td>\n",
       "      <td>Local</td>\n",
       "      <td>Libertad</td>\n",
       "      <td>Cantonizacion de Libertad</td>\n",
       "      <td>False</td>\n",
       "    </tr>\n",
       "    <tr>\n",
       "      <th>4</th>\n",
       "      <td>2012-04-21</td>\n",
       "      <td>Holiday</td>\n",
       "      <td>Local</td>\n",
       "      <td>Riobamba</td>\n",
       "      <td>Cantonizacion de Riobamba</td>\n",
       "      <td>False</td>\n",
       "    </tr>\n",
       "  </tbody>\n",
       "</table>\n",
       "</div>"
      ],
      "text/plain": [
       "         date     type    locale locale_name                    description  \\\n",
       "0  2012-03-02  Holiday     Local       Manta             Fundacion de Manta   \n",
       "1  2012-04-01  Holiday  Regional    Cotopaxi  Provincializacion de Cotopaxi   \n",
       "2  2012-04-12  Holiday     Local      Cuenca            Fundacion de Cuenca   \n",
       "3  2012-04-14  Holiday     Local    Libertad      Cantonizacion de Libertad   \n",
       "4  2012-04-21  Holiday     Local    Riobamba      Cantonizacion de Riobamba   \n",
       "\n",
       "   transferred  \n",
       "0        False  \n",
       "1        False  \n",
       "2        False  \n",
       "3        False  \n",
       "4        False  "
      ]
     },
     "execution_count": 7,
     "metadata": {},
     "output_type": "execute_result"
    }
   ],
   "source": [
    "holiday_events.head()"
   ]
  },
  {
   "cell_type": "code",
   "execution_count": 8,
   "id": "15d408e6",
   "metadata": {},
   "outputs": [
    {
     "data": {
      "text/html": [
       "<div>\n",
       "<style scoped>\n",
       "    .dataframe tbody tr th:only-of-type {\n",
       "        vertical-align: middle;\n",
       "    }\n",
       "\n",
       "    .dataframe tbody tr th {\n",
       "        vertical-align: top;\n",
       "    }\n",
       "\n",
       "    .dataframe thead th {\n",
       "        text-align: right;\n",
       "    }\n",
       "</style>\n",
       "<table border=\"1\" class=\"dataframe\">\n",
       "  <thead>\n",
       "    <tr style=\"text-align: right;\">\n",
       "      <th></th>\n",
       "      <th>date</th>\n",
       "      <th>dcoilwtico</th>\n",
       "    </tr>\n",
       "  </thead>\n",
       "  <tbody>\n",
       "    <tr>\n",
       "      <th>0</th>\n",
       "      <td>2013-01-01</td>\n",
       "      <td>NaN</td>\n",
       "    </tr>\n",
       "    <tr>\n",
       "      <th>1</th>\n",
       "      <td>2013-01-02</td>\n",
       "      <td>93.14</td>\n",
       "    </tr>\n",
       "    <tr>\n",
       "      <th>2</th>\n",
       "      <td>2013-01-03</td>\n",
       "      <td>92.97</td>\n",
       "    </tr>\n",
       "    <tr>\n",
       "      <th>3</th>\n",
       "      <td>2013-01-04</td>\n",
       "      <td>93.12</td>\n",
       "    </tr>\n",
       "    <tr>\n",
       "      <th>4</th>\n",
       "      <td>2013-01-07</td>\n",
       "      <td>93.20</td>\n",
       "    </tr>\n",
       "  </tbody>\n",
       "</table>\n",
       "</div>"
      ],
      "text/plain": [
       "         date  dcoilwtico\n",
       "0  2013-01-01         NaN\n",
       "1  2013-01-02       93.14\n",
       "2  2013-01-03       92.97\n",
       "3  2013-01-04       93.12\n",
       "4  2013-01-07       93.20"
      ]
     },
     "execution_count": 8,
     "metadata": {},
     "output_type": "execute_result"
    }
   ],
   "source": [
    "oil.head()"
   ]
  },
  {
   "cell_type": "code",
   "execution_count": 9,
   "id": "80507490",
   "metadata": {},
   "outputs": [
    {
     "data": {
      "text/html": [
       "<div>\n",
       "<style scoped>\n",
       "    .dataframe tbody tr th:only-of-type {\n",
       "        vertical-align: middle;\n",
       "    }\n",
       "\n",
       "    .dataframe tbody tr th {\n",
       "        vertical-align: top;\n",
       "    }\n",
       "\n",
       "    .dataframe thead th {\n",
       "        text-align: right;\n",
       "    }\n",
       "</style>\n",
       "<table border=\"1\" class=\"dataframe\">\n",
       "  <thead>\n",
       "    <tr style=\"text-align: right;\">\n",
       "      <th></th>\n",
       "      <th>store_nbr</th>\n",
       "      <th>city</th>\n",
       "      <th>state</th>\n",
       "      <th>type</th>\n",
       "      <th>cluster</th>\n",
       "    </tr>\n",
       "  </thead>\n",
       "  <tbody>\n",
       "    <tr>\n",
       "      <th>0</th>\n",
       "      <td>1</td>\n",
       "      <td>Quito</td>\n",
       "      <td>Pichincha</td>\n",
       "      <td>D</td>\n",
       "      <td>13</td>\n",
       "    </tr>\n",
       "    <tr>\n",
       "      <th>1</th>\n",
       "      <td>2</td>\n",
       "      <td>Quito</td>\n",
       "      <td>Pichincha</td>\n",
       "      <td>D</td>\n",
       "      <td>13</td>\n",
       "    </tr>\n",
       "    <tr>\n",
       "      <th>2</th>\n",
       "      <td>3</td>\n",
       "      <td>Quito</td>\n",
       "      <td>Pichincha</td>\n",
       "      <td>D</td>\n",
       "      <td>8</td>\n",
       "    </tr>\n",
       "    <tr>\n",
       "      <th>3</th>\n",
       "      <td>4</td>\n",
       "      <td>Quito</td>\n",
       "      <td>Pichincha</td>\n",
       "      <td>D</td>\n",
       "      <td>9</td>\n",
       "    </tr>\n",
       "    <tr>\n",
       "      <th>4</th>\n",
       "      <td>5</td>\n",
       "      <td>Santo Domingo</td>\n",
       "      <td>Santo Domingo de los Tsachilas</td>\n",
       "      <td>D</td>\n",
       "      <td>4</td>\n",
       "    </tr>\n",
       "  </tbody>\n",
       "</table>\n",
       "</div>"
      ],
      "text/plain": [
       "   store_nbr           city                           state type  cluster\n",
       "0          1          Quito                       Pichincha    D       13\n",
       "1          2          Quito                       Pichincha    D       13\n",
       "2          3          Quito                       Pichincha    D        8\n",
       "3          4          Quito                       Pichincha    D        9\n",
       "4          5  Santo Domingo  Santo Domingo de los Tsachilas    D        4"
      ]
     },
     "execution_count": 9,
     "metadata": {},
     "output_type": "execute_result"
    }
   ],
   "source": [
    "stores.head()"
   ]
  },
  {
   "cell_type": "code",
   "execution_count": 10,
   "id": "508019b9",
   "metadata": {},
   "outputs": [],
   "source": [
    "df = df.merge(stores, on ='store_nbr')\n",
    "df = df.merge(oil, on ='date', how='left')\n",
    "holiday_events = holiday_events.rename(columns={'type': 'holiday_type'})\n",
    "df = df.merge(holiday_events, on='date', how='left')"
   ]
  },
  {
   "cell_type": "code",
   "execution_count": 11,
   "id": "c399b599",
   "metadata": {},
   "outputs": [
    {
     "data": {
      "text/html": [
       "<div>\n",
       "<style scoped>\n",
       "    .dataframe tbody tr th:only-of-type {\n",
       "        vertical-align: middle;\n",
       "    }\n",
       "\n",
       "    .dataframe tbody tr th {\n",
       "        vertical-align: top;\n",
       "    }\n",
       "\n",
       "    .dataframe thead th {\n",
       "        text-align: right;\n",
       "    }\n",
       "</style>\n",
       "<table border=\"1\" class=\"dataframe\">\n",
       "  <thead>\n",
       "    <tr style=\"text-align: right;\">\n",
       "      <th></th>\n",
       "      <th>id</th>\n",
       "      <th>date</th>\n",
       "      <th>store_nbr</th>\n",
       "      <th>family</th>\n",
       "      <th>sales</th>\n",
       "      <th>onpromotion</th>\n",
       "      <th>city</th>\n",
       "      <th>state</th>\n",
       "      <th>type</th>\n",
       "      <th>cluster</th>\n",
       "      <th>dcoilwtico</th>\n",
       "      <th>holiday_type</th>\n",
       "      <th>locale</th>\n",
       "      <th>locale_name</th>\n",
       "      <th>description</th>\n",
       "      <th>transferred</th>\n",
       "    </tr>\n",
       "  </thead>\n",
       "  <tbody>\n",
       "    <tr>\n",
       "      <th>0</th>\n",
       "      <td>0</td>\n",
       "      <td>2013-01-01</td>\n",
       "      <td>1</td>\n",
       "      <td>AUTOMOTIVE</td>\n",
       "      <td>0.0</td>\n",
       "      <td>0</td>\n",
       "      <td>Quito</td>\n",
       "      <td>Pichincha</td>\n",
       "      <td>D</td>\n",
       "      <td>13</td>\n",
       "      <td>NaN</td>\n",
       "      <td>Holiday</td>\n",
       "      <td>National</td>\n",
       "      <td>Ecuador</td>\n",
       "      <td>Primer dia del ano</td>\n",
       "      <td>False</td>\n",
       "    </tr>\n",
       "    <tr>\n",
       "      <th>1</th>\n",
       "      <td>1</td>\n",
       "      <td>2013-01-01</td>\n",
       "      <td>1</td>\n",
       "      <td>BABY CARE</td>\n",
       "      <td>0.0</td>\n",
       "      <td>0</td>\n",
       "      <td>Quito</td>\n",
       "      <td>Pichincha</td>\n",
       "      <td>D</td>\n",
       "      <td>13</td>\n",
       "      <td>NaN</td>\n",
       "      <td>Holiday</td>\n",
       "      <td>National</td>\n",
       "      <td>Ecuador</td>\n",
       "      <td>Primer dia del ano</td>\n",
       "      <td>False</td>\n",
       "    </tr>\n",
       "    <tr>\n",
       "      <th>2</th>\n",
       "      <td>2</td>\n",
       "      <td>2013-01-01</td>\n",
       "      <td>1</td>\n",
       "      <td>BEAUTY</td>\n",
       "      <td>0.0</td>\n",
       "      <td>0</td>\n",
       "      <td>Quito</td>\n",
       "      <td>Pichincha</td>\n",
       "      <td>D</td>\n",
       "      <td>13</td>\n",
       "      <td>NaN</td>\n",
       "      <td>Holiday</td>\n",
       "      <td>National</td>\n",
       "      <td>Ecuador</td>\n",
       "      <td>Primer dia del ano</td>\n",
       "      <td>False</td>\n",
       "    </tr>\n",
       "    <tr>\n",
       "      <th>3</th>\n",
       "      <td>3</td>\n",
       "      <td>2013-01-01</td>\n",
       "      <td>1</td>\n",
       "      <td>BEVERAGES</td>\n",
       "      <td>0.0</td>\n",
       "      <td>0</td>\n",
       "      <td>Quito</td>\n",
       "      <td>Pichincha</td>\n",
       "      <td>D</td>\n",
       "      <td>13</td>\n",
       "      <td>NaN</td>\n",
       "      <td>Holiday</td>\n",
       "      <td>National</td>\n",
       "      <td>Ecuador</td>\n",
       "      <td>Primer dia del ano</td>\n",
       "      <td>False</td>\n",
       "    </tr>\n",
       "    <tr>\n",
       "      <th>4</th>\n",
       "      <td>4</td>\n",
       "      <td>2013-01-01</td>\n",
       "      <td>1</td>\n",
       "      <td>BOOKS</td>\n",
       "      <td>0.0</td>\n",
       "      <td>0</td>\n",
       "      <td>Quito</td>\n",
       "      <td>Pichincha</td>\n",
       "      <td>D</td>\n",
       "      <td>13</td>\n",
       "      <td>NaN</td>\n",
       "      <td>Holiday</td>\n",
       "      <td>National</td>\n",
       "      <td>Ecuador</td>\n",
       "      <td>Primer dia del ano</td>\n",
       "      <td>False</td>\n",
       "    </tr>\n",
       "  </tbody>\n",
       "</table>\n",
       "</div>"
      ],
      "text/plain": [
       "   id        date  store_nbr      family  sales  onpromotion   city  \\\n",
       "0   0  2013-01-01          1  AUTOMOTIVE    0.0            0  Quito   \n",
       "1   1  2013-01-01          1   BABY CARE    0.0            0  Quito   \n",
       "2   2  2013-01-01          1      BEAUTY    0.0            0  Quito   \n",
       "3   3  2013-01-01          1   BEVERAGES    0.0            0  Quito   \n",
       "4   4  2013-01-01          1       BOOKS    0.0            0  Quito   \n",
       "\n",
       "       state type  cluster  dcoilwtico holiday_type    locale locale_name  \\\n",
       "0  Pichincha    D       13         NaN      Holiday  National     Ecuador   \n",
       "1  Pichincha    D       13         NaN      Holiday  National     Ecuador   \n",
       "2  Pichincha    D       13         NaN      Holiday  National     Ecuador   \n",
       "3  Pichincha    D       13         NaN      Holiday  National     Ecuador   \n",
       "4  Pichincha    D       13         NaN      Holiday  National     Ecuador   \n",
       "\n",
       "          description transferred  \n",
       "0  Primer dia del ano       False  \n",
       "1  Primer dia del ano       False  \n",
       "2  Primer dia del ano       False  \n",
       "3  Primer dia del ano       False  \n",
       "4  Primer dia del ano       False  "
      ]
     },
     "execution_count": 11,
     "metadata": {},
     "output_type": "execute_result"
    }
   ],
   "source": [
    "df.head()"
   ]
  },
  {
   "cell_type": "markdown",
   "id": "60c8fafe",
   "metadata": {},
   "source": [
    "Data Preprocessing"
   ]
  },
  {
   "cell_type": "code",
   "execution_count": 13,
   "id": "ef8e2727",
   "metadata": {
    "scrolled": true
   },
   "outputs": [
    {
     "data": {
      "text/plain": [
       "id                    0\n",
       "date                  0\n",
       "store_nbr             0\n",
       "family                0\n",
       "sales                 0\n",
       "onpromotion           0\n",
       "city                  0\n",
       "state                 0\n",
       "type                  0\n",
       "cluster               0\n",
       "dcoilwtico       955152\n",
       "holiday_type    2551824\n",
       "locale          2551824\n",
       "locale_name     2551824\n",
       "description     2551824\n",
       "transferred     2551824\n",
       "dtype: int64"
      ]
     },
     "execution_count": 13,
     "metadata": {},
     "output_type": "execute_result"
    }
   ],
   "source": [
    "df.isnull().sum()"
   ]
  },
  {
   "cell_type": "code",
   "execution_count": 14,
   "id": "0195db32",
   "metadata": {},
   "outputs": [],
   "source": [
    "unwanted_cols=['holiday_type', 'locale', 'locale_name', 'description', 'transferred', 'dcoilwtico']"
   ]
  },
  {
   "cell_type": "code",
   "execution_count": 15,
   "id": "fc0e2448",
   "metadata": {},
   "outputs": [],
   "source": [
    "df=df.drop(columns=unwanted_cols)"
   ]
  },
  {
   "cell_type": "code",
   "execution_count": 17,
   "id": "dd9bdf28",
   "metadata": {},
   "outputs": [
    {
     "data": {
      "text/plain": [
       "True"
      ]
     },
     "execution_count": 17,
     "metadata": {},
     "output_type": "execute_result"
    }
   ],
   "source": [
    "df.duplicated().any()"
   ]
  },
  {
   "cell_type": "code",
   "execution_count": 18,
   "id": "bbe5fba1",
   "metadata": {},
   "outputs": [
    {
     "data": {
      "text/plain": [
       "53460"
      ]
     },
     "execution_count": 18,
     "metadata": {},
     "output_type": "execute_result"
    }
   ],
   "source": [
    "duplicates=df.duplicated()\n",
    "sum(duplicates)"
   ]
  },
  {
   "cell_type": "code",
   "execution_count": 19,
   "id": "37c90d71",
   "metadata": {},
   "outputs": [],
   "source": [
    "df=df.drop_duplicates()"
   ]
  },
  {
   "cell_type": "code",
   "execution_count": 20,
   "id": "923d26a9",
   "metadata": {},
   "outputs": [
    {
     "data": {
      "text/plain": [
       "False"
      ]
     },
     "execution_count": 20,
     "metadata": {},
     "output_type": "execute_result"
    }
   ],
   "source": [
    "df.duplicated().any()"
   ]
  },
  {
   "cell_type": "code",
   "execution_count": 21,
   "id": "eaa2e907",
   "metadata": {},
   "outputs": [
    {
     "data": {
      "text/plain": [
       "id             0\n",
       "date           0\n",
       "store_nbr      0\n",
       "family         0\n",
       "sales          0\n",
       "onpromotion    0\n",
       "city           0\n",
       "state          0\n",
       "type           0\n",
       "cluster        0\n",
       "dtype: int64"
      ]
     },
     "execution_count": 21,
     "metadata": {},
     "output_type": "execute_result"
    }
   ],
   "source": [
    "df.isnull().sum()"
   ]
  },
  {
   "cell_type": "code",
   "execution_count": 22,
   "id": "08633b5e",
   "metadata": {},
   "outputs": [],
   "source": [
    "df['date'] = pd.to_datetime(df['date'])\n"
   ]
  },
  {
   "cell_type": "code",
   "execution_count": 23,
   "id": "0399c355",
   "metadata": {},
   "outputs": [
    {
     "data": {
      "text/html": [
       "<div>\n",
       "<style scoped>\n",
       "    .dataframe tbody tr th:only-of-type {\n",
       "        vertical-align: middle;\n",
       "    }\n",
       "\n",
       "    .dataframe tbody tr th {\n",
       "        vertical-align: top;\n",
       "    }\n",
       "\n",
       "    .dataframe thead th {\n",
       "        text-align: right;\n",
       "    }\n",
       "</style>\n",
       "<table border=\"1\" class=\"dataframe\">\n",
       "  <thead>\n",
       "    <tr style=\"text-align: right;\">\n",
       "      <th></th>\n",
       "      <th>id</th>\n",
       "      <th>date</th>\n",
       "      <th>store_nbr</th>\n",
       "      <th>family</th>\n",
       "      <th>sales</th>\n",
       "      <th>onpromotion</th>\n",
       "      <th>city</th>\n",
       "      <th>state</th>\n",
       "      <th>type</th>\n",
       "      <th>cluster</th>\n",
       "    </tr>\n",
       "  </thead>\n",
       "  <tbody>\n",
       "    <tr>\n",
       "      <th>0</th>\n",
       "      <td>0</td>\n",
       "      <td>2013-01-01</td>\n",
       "      <td>1</td>\n",
       "      <td>AUTOMOTIVE</td>\n",
       "      <td>0.0</td>\n",
       "      <td>0</td>\n",
       "      <td>Quito</td>\n",
       "      <td>Pichincha</td>\n",
       "      <td>D</td>\n",
       "      <td>13</td>\n",
       "    </tr>\n",
       "    <tr>\n",
       "      <th>1</th>\n",
       "      <td>1</td>\n",
       "      <td>2013-01-01</td>\n",
       "      <td>1</td>\n",
       "      <td>BABY CARE</td>\n",
       "      <td>0.0</td>\n",
       "      <td>0</td>\n",
       "      <td>Quito</td>\n",
       "      <td>Pichincha</td>\n",
       "      <td>D</td>\n",
       "      <td>13</td>\n",
       "    </tr>\n",
       "    <tr>\n",
       "      <th>2</th>\n",
       "      <td>2</td>\n",
       "      <td>2013-01-01</td>\n",
       "      <td>1</td>\n",
       "      <td>BEAUTY</td>\n",
       "      <td>0.0</td>\n",
       "      <td>0</td>\n",
       "      <td>Quito</td>\n",
       "      <td>Pichincha</td>\n",
       "      <td>D</td>\n",
       "      <td>13</td>\n",
       "    </tr>\n",
       "    <tr>\n",
       "      <th>3</th>\n",
       "      <td>3</td>\n",
       "      <td>2013-01-01</td>\n",
       "      <td>1</td>\n",
       "      <td>BEVERAGES</td>\n",
       "      <td>0.0</td>\n",
       "      <td>0</td>\n",
       "      <td>Quito</td>\n",
       "      <td>Pichincha</td>\n",
       "      <td>D</td>\n",
       "      <td>13</td>\n",
       "    </tr>\n",
       "    <tr>\n",
       "      <th>4</th>\n",
       "      <td>4</td>\n",
       "      <td>2013-01-01</td>\n",
       "      <td>1</td>\n",
       "      <td>BOOKS</td>\n",
       "      <td>0.0</td>\n",
       "      <td>0</td>\n",
       "      <td>Quito</td>\n",
       "      <td>Pichincha</td>\n",
       "      <td>D</td>\n",
       "      <td>13</td>\n",
       "    </tr>\n",
       "  </tbody>\n",
       "</table>\n",
       "</div>"
      ],
      "text/plain": [
       "   id       date  store_nbr      family  sales  onpromotion   city      state  \\\n",
       "0   0 2013-01-01          1  AUTOMOTIVE    0.0            0  Quito  Pichincha   \n",
       "1   1 2013-01-01          1   BABY CARE    0.0            0  Quito  Pichincha   \n",
       "2   2 2013-01-01          1      BEAUTY    0.0            0  Quito  Pichincha   \n",
       "3   3 2013-01-01          1   BEVERAGES    0.0            0  Quito  Pichincha   \n",
       "4   4 2013-01-01          1       BOOKS    0.0            0  Quito  Pichincha   \n",
       "\n",
       "  type  cluster  \n",
       "0    D       13  \n",
       "1    D       13  \n",
       "2    D       13  \n",
       "3    D       13  \n",
       "4    D       13  "
      ]
     },
     "execution_count": 23,
     "metadata": {},
     "output_type": "execute_result"
    }
   ],
   "source": [
    "df.head()"
   ]
  },
  {
   "cell_type": "code",
   "execution_count": 24,
   "id": "b5dbdf4b",
   "metadata": {
    "scrolled": true
   },
   "outputs": [
    {
     "data": {
      "image/png": "[encoded data removed]",
      "text/plain": [
       "<Figure size 864x432 with 1 Axes>"
      ]
     },
     "metadata": {
      "needs_background": "light"
     },
     "output_type": "display_data"
    }
   ],
   "source": [
    "# Visualize the time series data.\n",
    "plt.figure(figsize=(12, 6))\n",
    "plt.plot(df['sales'])\n",
    "plt.title('Time Series Data')\n",
    "plt.xlabel('Date')\n",
    "plt.ylabel('sales')\n",
    "plt.show()\n"
   ]
  },
  {
   "cell_type": "code",
   "execution_count": 26,
   "id": "59a92334",
   "metadata": {},
   "outputs": [],
   "source": [
    "# create new columns 'month' 'year'\n",
    "df['month'] = df['date'].dt.month\n",
    "df['year'] = df['date'].dt.year"
   ]
  },
  {
   "cell_type": "code",
   "execution_count": 27,
   "id": "c0ba56ec",
   "metadata": {},
   "outputs": [
    {
     "data": {
      "image/png": "[encoded data removed]",
      "text/plain": [
       "<Figure size 720x432 with 1 Axes>"
      ]
     },
     "metadata": {
      "needs_background": "light"
     },
     "output_type": "display_data"
    }
   ],
   "source": [
    "import itertools\n",
    "# Group the data by month, year, and calculate the total sales\n",
    "monthly_sales = df.groupby(['month', 'year'])['sales'].sum().reset_index()\n",
    "\n",
    "# Create the line chart\n",
    "plt.figure(figsize=(10, 6))  # Set the figure size\n",
    "\n",
    "# Get unique years and cycle through colors\n",
    "years = monthly_sales['year'].unique()\n",
    "colors = itertools.cycle(['red', 'green', 'blue', 'orange', 'purple'])\n",
    "\n",
    "for year in years:\n",
    "    year_data = monthly_sales[monthly_sales['year'] == year]\n",
    "    plt.plot(year_data['month'], year_data['sales'], marker='o', color=next(colors), label=str(year))\n",
    "\n",
    "plt.xlabel('Month')\n",
    "plt.ylabel('Sales')\n",
    "plt.title('Monthly Sales Trend')\n",
    "\n",
    "# Customize x-axis ticks to show month names\n",
    "month_names = ['Jan', 'Feb', 'Mar', 'Apr', 'May', 'Jun', 'Jul', 'Aug', 'Sep', 'Oct', 'Nov', 'Dec']\n",
    "plt.xticks(range(1, 13), month_names)\n",
    "\n",
    "\n",
    "plt.legend()\n",
    "\n",
    "plt.show()"
   ]
  },
  {
   "cell_type": "code",
   "execution_count": 28,
   "id": "9543cbed",
   "metadata": {
    "scrolled": true
   },
   "outputs": [
    {
     "name": "stderr",
     "output_type": "stream",
     "text": [
      "C:\\Users\\HP\\AppData\\Local\\Temp\\ipykernel_6636\\1567527528.py:1: FutureWarning: Indexing with multiple keys (implicitly converted to a tuple of keys) will be deprecated, use a list instead.\n",
      "  df = df.groupby('date')['sales','onpromotion'].sum().reset_index()\n"
     ]
    },
    {
     "name": "stdout",
     "output_type": "stream",
     "text": [
      "           date          sales  onpromotion\n",
      "0    2013-01-01    2511.618999            0\n",
      "1    2013-01-02  496092.417944            0\n",
      "2    2013-01-03  361461.231124            0\n",
      "3    2013-01-04  354459.677093            0\n",
      "4    2013-01-05  477350.121229            0\n",
      "...         ...            ...          ...\n",
      "1679 2017-08-11  826373.722022        14179\n",
      "1680 2017-08-12  792630.535079         8312\n",
      "1681 2017-08-13  865639.677471         9283\n",
      "1682 2017-08-14  760922.406081         8043\n",
      "1683 2017-08-15  762661.935939        10605\n",
      "\n",
      "[1684 rows x 3 columns]\n"
     ]
    }
   ],
   "source": [
    "df = df.groupby('date')['sales','onpromotion'].sum().reset_index()\n",
    "print(df)"
   ]
  },
  {
   "cell_type": "markdown",
   "id": "b5a79119",
   "metadata": {},
   "source": [
    "# Model Identification\n"
   ]
  },
  {
   "cell_type": "code",
   "execution_count": 29,
   "id": "b9cbb84a",
   "metadata": {},
   "outputs": [
    {
     "name": "stdout",
     "output_type": "stream",
     "text": [
      "ADF Statistic: -2.6161957486048566\n",
      "p-value: 0.08969592175787472\n",
      " Num of lags:22\n",
      "Critical Values:\n",
      "   1%: -3.4342930672797065\n",
      "   5%: -2.8632816397229064\n",
      "   10%: -2.567697207194407\n"
     ]
    }
   ],
   "source": [
    "# Check for stationarity using the Augmented Dickey-Fuller (ADF) test.\n",
    "result = sm.tsa.adfuller(df['sales'], autolag='AIC')\n",
    "print(f'ADF Statistic: {result[0]}')\n",
    "print(f'p-value: {result[1]}')\n",
    "print(f' Num of lags:{result[2]}')\n",
    "print('Critical Values:')\n",
    "for key, value in result[4].items():\n",
    "    print(f'   {key}: {value}')\n"
   ]
  },
  {
   "cell_type": "markdown",
   "id": "56874763",
   "metadata": {},
   "source": [
    "ADF Statistic: The ADF statistic is -2.6161957486048566. If the ADF statistic is less than the critical values, you can reject the null hypothesis. However, in this case, the ADF statistic is greater (closer to zero) than the critical values, indicating that you fail to reject the null hypothesis. This suggests that the time series data likely has a unit root and is non-stationary.\n",
    "\n",
    "P-value: The p-value (0.08969592175787472) is greater than common significance levels (such as 0.01, 0.05, or 0.10). A higher p-value suggests weak evidence against the null hypothesis. In this case, the p-value is greater than 0.05 (at 5% significance level), indicating that you fail to reject the null hypothesis. Again, this supports the idea that the data is likely non-stationary."
   ]
  },
  {
   "cell_type": "code",
   "execution_count": 30,
   "id": "3426be78",
   "metadata": {},
   "outputs": [
    {
     "name": "stdout",
     "output_type": "stream",
     "text": [
      "0                 NaN\n",
      "1       493580.798945\n",
      "2      -134631.186820\n",
      "3        -7001.554031\n",
      "4       122890.444136\n",
      "            ...      \n",
      "1679    174986.810052\n",
      "1680    -33743.186943\n",
      "1681     73009.142392\n",
      "1682   -104717.271390\n",
      "1683      1739.529858\n",
      "Name: sales_diff, Length: 1684, dtype: float64\n"
     ]
    }
   ],
   "source": [
    "#Differencing\n",
    "df['sales_diff'] = df['sales'].diff().dropna()\n",
    "print(df['sales_diff'])"
   ]
  },
  {
   "cell_type": "code",
   "execution_count": 31,
   "id": "89f45ee2",
   "metadata": {},
   "outputs": [],
   "source": [
    "df['sales_diff'] = df['sales'] - df['sales'].shift(1)"
   ]
  },
  {
   "cell_type": "code",
   "execution_count": 32,
   "id": "18c7ed29",
   "metadata": {},
   "outputs": [],
   "source": [
    "df = df.dropna()"
   ]
  },
  {
   "cell_type": "code",
   "execution_count": 33,
   "id": "c6f12e4b",
   "metadata": {
    "scrolled": true
   },
   "outputs": [
    {
     "data": {
      "text/plain": [
       "1       493580.798945\n",
       "2      -134631.186820\n",
       "3        -7001.554031\n",
       "4       122890.444136\n",
       "5        42345.279859\n",
       "            ...      \n",
       "1679    174986.810052\n",
       "1680    -33743.186943\n",
       "1681     73009.142392\n",
       "1682   -104717.271390\n",
       "1683      1739.529858\n",
       "Name: sales_diff, Length: 1683, dtype: float64"
      ]
     },
     "execution_count": 33,
     "metadata": {},
     "output_type": "execute_result"
    }
   ],
   "source": [
    "df['sales_diff']"
   ]
  },
  {
   "cell_type": "code",
   "execution_count": 34,
   "id": "9b40c236",
   "metadata": {},
   "outputs": [],
   "source": [
    "from statsmodels.graphics.tsaplots import plot_acf, plot_pacf"
   ]
  },
  {
   "cell_type": "code",
   "execution_count": 35,
   "id": "94106f3c",
   "metadata": {},
   "outputs": [
    {
     "data": {
      "image/png": "[encoded data removed]",
      "text/plain": [
       "<Figure size 432x288 with 1 Axes>"
      ]
     },
     "metadata": {
      "needs_background": "light"
     },
     "output_type": "display_data"
    }
   ],
   "source": [
    "# ACF Plot\n",
    "plot_acf(df['sales_diff'], lags=22)\n",
    "plt.show()"
   ]
  },
  {
   "cell_type": "code",
   "execution_count": 36,
   "id": "cf89a515",
   "metadata": {},
   "outputs": [
    {
     "name": "stderr",
     "output_type": "stream",
     "text": [
      "C:\\Users\\HP\\anaconda3\\lib\\site-packages\\statsmodels\\graphics\\tsaplots.py:348: FutureWarning: The default method 'yw' can produce PACF values outside of the [-1,1] interval. After 0.13, the default will change tounadjusted Yule-Walker ('ywm'). You can use this method now by setting method='ywm'.\n",
      "  warnings.warn(\n"
     ]
    },
    {
     "data": {
      "image/png": "[encoded data removed]",
      "text/plain": [
       "<Figure size 432x288 with 1 Axes>"
      ]
     },
     "metadata": {
      "needs_background": "light"
     },
     "output_type": "display_data"
    }
   ],
   "source": [
    "# PACF Plot\n",
    "plot_pacf(df['sales_diff'], lags=22)\n",
    "plt.show()"
   ]
  },
  {
   "cell_type": "code",
   "execution_count": null,
   "id": "df8ff254",
   "metadata": {},
   "outputs": [],
   "source": [
    "#p=5, q=5"
   ]
  },
  {
   "cell_type": "code",
   "execution_count": 37,
   "id": "ef5d05fe",
   "metadata": {},
   "outputs": [],
   "source": [
    "from pmdarima import auto_arima\n",
    "import warnings\n",
    "warnings.filterwarnings(\"ignore\")"
   ]
  },
  {
   "cell_type": "code",
   "execution_count": 38,
   "id": "31ac277b",
   "metadata": {
    "scrolled": true
   },
   "outputs": [
    {
     "name": "stdout",
     "output_type": "stream",
     "text": [
      "Performing stepwise search to minimize aic\n",
      " ARIMA(2,1,2)(0,0,0)[0] intercept   : AIC=44438.403, Time=1.53 sec\n",
      " ARIMA(0,1,0)(0,0,0)[0] intercept   : AIC=45076.761, Time=0.08 sec\n",
      " ARIMA(1,1,0)(0,0,0)[0] intercept   : AIC=45072.132, Time=0.22 sec\n",
      " ARIMA(0,1,1)(0,0,0)[0] intercept   : AIC=44904.914, Time=0.52 sec\n",
      " ARIMA(0,1,0)(0,0,0)[0]             : AIC=45074.763, Time=0.06 sec\n",
      " ARIMA(1,1,2)(0,0,0)[0] intercept   : AIC=44449.507, Time=0.90 sec\n",
      " ARIMA(2,1,1)(0,0,0)[0] intercept   : AIC=44455.475, Time=1.01 sec\n",
      " ARIMA(3,1,2)(0,0,0)[0] intercept   : AIC=44454.551, Time=2.06 sec\n",
      " ARIMA(2,1,3)(0,0,0)[0] intercept   : AIC=44393.763, Time=1.95 sec\n",
      " ARIMA(1,1,3)(0,0,0)[0] intercept   : AIC=44471.792, Time=1.82 sec\n",
      " ARIMA(3,1,3)(0,0,0)[0] intercept   : AIC=44063.119, Time=6.34 sec\n",
      " ARIMA(4,1,3)(0,0,0)[0] intercept   : AIC=43829.214, Time=5.44 sec\n",
      " ARIMA(4,1,2)(0,0,0)[0] intercept   : AIC=43868.993, Time=6.57 sec\n",
      " ARIMA(5,1,3)(0,0,0)[0] intercept   : AIC=43783.482, Time=7.27 sec\n",
      " ARIMA(5,1,2)(0,0,0)[0] intercept   : AIC=43793.735, Time=6.95 sec\n",
      " ARIMA(5,1,4)(0,0,0)[0] intercept   : AIC=43661.960, Time=8.98 sec\n",
      " ARIMA(4,1,4)(0,0,0)[0] intercept   : AIC=43821.137, Time=5.15 sec\n",
      " ARIMA(5,1,5)(0,0,0)[0] intercept   : AIC=43539.511, Time=9.37 sec\n",
      " ARIMA(4,1,5)(0,0,0)[0] intercept   : AIC=43589.879, Time=9.39 sec\n",
      " ARIMA(5,1,5)(0,0,0)[0]             : AIC=43528.213, Time=9.05 sec\n",
      " ARIMA(4,1,5)(0,0,0)[0]             : AIC=43588.114, Time=8.73 sec\n",
      " ARIMA(5,1,4)(0,0,0)[0]             : AIC=43659.893, Time=7.86 sec\n",
      " ARIMA(4,1,4)(0,0,0)[0]             : AIC=43819.168, Time=4.09 sec\n",
      "\n",
      "Best model:  ARIMA(5,1,5)(0,0,0)[0]          \n",
      "Total fit time: 105.368 seconds\n"
     ]
    },
    {
     "data": {
      "text/html": [
       "<table class=\"simpletable\">\n",
       "<caption>SARIMAX Results</caption>\n",
       "<tr>\n",
       "  <th>Dep. Variable:</th>           <td>y</td>        <th>  No. Observations:  </th>    <td>1683</td>   \n",
       "</tr>\n",
       "<tr>\n",
       "  <th>Model:</th>           <td>SARIMAX(5, 1, 5)</td> <th>  Log Likelihood     </th> <td>-21753.106</td>\n",
       "</tr>\n",
       "<tr>\n",
       "  <th>Date:</th>            <td>Tue, 31 Oct 2023</td> <th>  AIC                </th>  <td>43528.213</td>\n",
       "</tr>\n",
       "<tr>\n",
       "  <th>Time:</th>                <td>12:56:43</td>     <th>  BIC                </th>  <td>43587.918</td>\n",
       "</tr>\n",
       "<tr>\n",
       "  <th>Sample:</th>                  <td>0</td>        <th>  HQIC               </th>  <td>43550.327</td>\n",
       "</tr>\n",
       "<tr>\n",
       "  <th></th>                      <td> - 1683</td>     <th>                     </th>      <td> </td>    \n",
       "</tr>\n",
       "<tr>\n",
       "  <th>Covariance Type:</th>        <td>opg</td>       <th>                     </th>      <td> </td>    \n",
       "</tr>\n",
       "</table>\n",
       "<table class=\"simpletable\">\n",
       "<tr>\n",
       "     <td></td>       <th>coef</th>     <th>std err</th>      <th>z</th>      <th>P>|z|</th>  <th>[0.025</th>    <th>0.975]</th>  \n",
       "</tr>\n",
       "<tr>\n",
       "  <th>ar.L1</th>  <td>    1.0437</td> <td>    0.032</td> <td>   32.625</td> <td> 0.000</td> <td>    0.981</td> <td>    1.106</td>\n",
       "</tr>\n",
       "<tr>\n",
       "  <th>ar.L2</th>  <td>   -1.6359</td> <td>    0.027</td> <td>  -61.685</td> <td> 0.000</td> <td>   -1.688</td> <td>   -1.584</td>\n",
       "</tr>\n",
       "<tr>\n",
       "  <th>ar.L3</th>  <td>    1.1553</td> <td>    0.046</td> <td>   25.388</td> <td> 0.000</td> <td>    1.066</td> <td>    1.245</td>\n",
       "</tr>\n",
       "<tr>\n",
       "  <th>ar.L4</th>  <td>   -1.1969</td> <td>    0.025</td> <td>  -46.994</td> <td> 0.000</td> <td>   -1.247</td> <td>   -1.147</td>\n",
       "</tr>\n",
       "<tr>\n",
       "  <th>ar.L5</th>  <td>    0.2532</td> <td>    0.031</td> <td>    8.149</td> <td> 0.000</td> <td>    0.192</td> <td>    0.314</td>\n",
       "</tr>\n",
       "<tr>\n",
       "  <th>ma.L1</th>  <td>   -1.5743</td> <td>    0.028</td> <td>  -55.369</td> <td> 0.000</td> <td>   -1.630</td> <td>   -1.519</td>\n",
       "</tr>\n",
       "<tr>\n",
       "  <th>ma.L2</th>  <td>    1.9416</td> <td>    0.033</td> <td>   58.369</td> <td> 0.000</td> <td>    1.876</td> <td>    2.007</td>\n",
       "</tr>\n",
       "<tr>\n",
       "  <th>ma.L3</th>  <td>   -1.7800</td> <td>    0.043</td> <td>  -41.443</td> <td> 0.000</td> <td>   -1.864</td> <td>   -1.696</td>\n",
       "</tr>\n",
       "<tr>\n",
       "  <th>ma.L4</th>  <td>    1.4396</td> <td>    0.032</td> <td>   45.489</td> <td> 0.000</td> <td>    1.378</td> <td>    1.502</td>\n",
       "</tr>\n",
       "<tr>\n",
       "  <th>ma.L5</th>  <td>   -0.7367</td> <td>    0.025</td> <td>  -29.147</td> <td> 0.000</td> <td>   -0.786</td> <td>   -0.687</td>\n",
       "</tr>\n",
       "<tr>\n",
       "  <th>sigma2</th> <td> 1.264e+10</td> <td> 7.45e-12</td> <td>  1.7e+21</td> <td> 0.000</td> <td> 1.26e+10</td> <td> 1.26e+10</td>\n",
       "</tr>\n",
       "</table>\n",
       "<table class=\"simpletable\">\n",
       "<tr>\n",
       "  <th>Ljung-Box (L1) (Q):</th>     <td>0.03</td> <th>  Jarque-Bera (JB):  </th> <td>50420.17</td>\n",
       "</tr>\n",
       "<tr>\n",
       "  <th>Prob(Q):</th>                <td>0.87</td> <th>  Prob(JB):          </th>   <td>0.00</td>  \n",
       "</tr>\n",
       "<tr>\n",
       "  <th>Heteroskedasticity (H):</th> <td>2.96</td> <th>  Skew:              </th>   <td>-1.04</td> \n",
       "</tr>\n",
       "<tr>\n",
       "  <th>Prob(H) (two-sided):</th>    <td>0.00</td> <th>  Kurtosis:          </th>   <td>29.74</td> \n",
       "</tr>\n",
       "</table><br/><br/>Warnings:<br/>[1] Covariance matrix calculated using the outer product of gradients (complex-step).<br/>[2] Covariance matrix is singular or near-singular, with condition number 1.48e+36. Standard errors may be unstable."
      ],
      "text/plain": [
       "<class 'statsmodels.iolib.summary.Summary'>\n",
       "\"\"\"\n",
       "                               SARIMAX Results                                \n",
       "==============================================================================\n",
       "Dep. Variable:                      y   No. Observations:                 1683\n",
       "Model:               SARIMAX(5, 1, 5)   Log Likelihood              -21753.106\n",
       "Date:                Tue, 31 Oct 2023   AIC                          43528.213\n",
       "Time:                        12:56:43   BIC                          43587.918\n",
       "Sample:                             0   HQIC                         43550.327\n",
       "                               - 1683                                         \n",
       "Covariance Type:                  opg                                         \n",
       "==============================================================================\n",
       "                 coef    std err          z      P>|z|      [0.025      0.975]\n",
       "------------------------------------------------------------------------------\n",
       "ar.L1          1.0437      0.032     32.625      0.000       0.981       1.106\n",
       "ar.L2         -1.6359      0.027    -61.685      0.000      -1.688      -1.584\n",
       "ar.L3          1.1553      0.046     25.388      0.000       1.066       1.245\n",
       "ar.L4         -1.1969      0.025    -46.994      0.000      -1.247      -1.147\n",
       "ar.L5          0.2532      0.031      8.149      0.000       0.192       0.314\n",
       "ma.L1         -1.5743      0.028    -55.369      0.000      -1.630      -1.519\n",
       "ma.L2          1.9416      0.033     58.369      0.000       1.876       2.007\n",
       "ma.L3         -1.7800      0.043    -41.443      0.000      -1.864      -1.696\n",
       "ma.L4          1.4396      0.032     45.489      0.000       1.378       1.502\n",
       "ma.L5         -0.7367      0.025    -29.147      0.000      -0.786      -0.687\n",
       "sigma2      1.264e+10   7.45e-12    1.7e+21      0.000    1.26e+10    1.26e+10\n",
       "===================================================================================\n",
       "Ljung-Box (L1) (Q):                   0.03   Jarque-Bera (JB):             50420.17\n",
       "Prob(Q):                              0.87   Prob(JB):                         0.00\n",
       "Heteroskedasticity (H):               2.96   Skew:                            -1.04\n",
       "Prob(H) (two-sided):                  0.00   Kurtosis:                        29.74\n",
       "===================================================================================\n",
       "\n",
       "Warnings:\n",
       "[1] Covariance matrix calculated using the outer product of gradients (complex-step).\n",
       "[2] Covariance matrix is singular or near-singular, with condition number 1.48e+36. Standard errors may be unstable.\n",
       "\"\"\""
      ]
     },
     "execution_count": 38,
     "metadata": {},
     "output_type": "execute_result"
    }
   ],
   "source": [
    "#to determine order of ARIMA using auto_arima method\n",
    "stepwise_fit=auto_arima(df['sales'], trace=True, suppress_warnings=True)\n",
    "stepwise_fit.summary()"
   ]
  },
  {
   "cell_type": "code",
   "execution_count": 39,
   "id": "fc42e6b7",
   "metadata": {},
   "outputs": [],
   "source": [
    "#p=5, d=1, q=5"
   ]
  },
  {
   "cell_type": "code",
   "execution_count": 38,
   "id": "f2c46003",
   "metadata": {},
   "outputs": [],
   "source": [
    "from statsmodels.tsa.arima.model import ARIMA"
   ]
  },
  {
   "cell_type": "code",
   "execution_count": 39,
   "id": "76a7196b",
   "metadata": {},
   "outputs": [
    {
     "name": "stdout",
     "output_type": "stream",
     "text": [
      "(1346, 4) (337, 4)\n"
     ]
    }
   ],
   "source": [
    "# Split the data into training and testing sets.\n",
    "train_size = int(len(df) * 0.8)\n",
    "train_data = df.iloc[:train_size]\n",
    "test_data = df.iloc[train_size:]\n",
    "print(train_data.shape, test_data.shape)"
   ]
  },
  {
   "cell_type": "markdown",
   "id": "778696f1",
   "metadata": {},
   "source": [
    "TRAIN THE MODEL"
   ]
  },
  {
   "cell_type": "markdown",
   "id": "adf5da58",
   "metadata": {},
   "source": [
    "# Model Estimation"
   ]
  },
  {
   "cell_type": "code",
   "execution_count": 40,
   "id": "91d3f742",
   "metadata": {
    "scrolled": true
   },
   "outputs": [
    {
     "name": "stderr",
     "output_type": "stream",
     "text": [
      "C:\\Users\\HP\\anaconda3\\lib\\site-packages\\statsmodels\\tsa\\base\\tsa_model.py:471: ValueWarning: An unsupported index was provided and will be ignored when e.g. forecasting.\n",
      "  self._init_dates(dates, freq)\n",
      "C:\\Users\\HP\\anaconda3\\lib\\site-packages\\statsmodels\\tsa\\base\\tsa_model.py:471: ValueWarning: An unsupported index was provided and will be ignored when e.g. forecasting.\n",
      "  self._init_dates(dates, freq)\n",
      "C:\\Users\\HP\\anaconda3\\lib\\site-packages\\statsmodels\\tsa\\base\\tsa_model.py:471: ValueWarning: An unsupported index was provided and will be ignored when e.g. forecasting.\n",
      "  self._init_dates(dates, freq)\n",
      "C:\\Users\\HP\\anaconda3\\lib\\site-packages\\statsmodels\\base\\model.py:604: ConvergenceWarning: Maximum Likelihood optimization failed to converge. Check mle_retvals\n",
      "  warnings.warn(\"Maximum Likelihood optimization failed to \"\n"
     ]
    },
    {
     "data": {
      "text/html": [
       "<table class=\"simpletable\">\n",
       "<caption>SARIMAX Results</caption>\n",
       "<tr>\n",
       "  <th>Dep. Variable:</th>         <td>sales</td>      <th>  No. Observations:  </th>    <td>1346</td>   \n",
       "</tr>\n",
       "<tr>\n",
       "  <th>Model:</th>            <td>ARIMA(5, 1, 5)</td>  <th>  Log Likelihood     </th> <td>-17234.967</td>\n",
       "</tr>\n",
       "<tr>\n",
       "  <th>Date:</th>            <td>Tue, 31 Oct 2023</td> <th>  AIC                </th>  <td>34491.933</td>\n",
       "</tr>\n",
       "<tr>\n",
       "  <th>Time:</th>                <td>20:57:51</td>     <th>  BIC                </th>  <td>34549.179</td>\n",
       "</tr>\n",
       "<tr>\n",
       "  <th>Sample:</th>                  <td>0</td>        <th>  HQIC               </th>  <td>34513.376</td>\n",
       "</tr>\n",
       "<tr>\n",
       "  <th></th>                      <td> - 1346</td>     <th>                     </th>      <td> </td>    \n",
       "</tr>\n",
       "<tr>\n",
       "  <th>Covariance Type:</th>        <td>opg</td>       <th>                     </th>      <td> </td>    \n",
       "</tr>\n",
       "</table>\n",
       "<table class=\"simpletable\">\n",
       "<tr>\n",
       "     <td></td>       <th>coef</th>     <th>std err</th>      <th>z</th>      <th>P>|z|</th>  <th>[0.025</th>    <th>0.975]</th>  \n",
       "</tr>\n",
       "<tr>\n",
       "  <th>ar.L1</th>  <td>    1.1406</td> <td>    0.037</td> <td>   31.120</td> <td> 0.000</td> <td>    1.069</td> <td>    1.212</td>\n",
       "</tr>\n",
       "<tr>\n",
       "  <th>ar.L2</th>  <td>   -1.7077</td> <td>    0.030</td> <td>  -56.845</td> <td> 0.000</td> <td>   -1.767</td> <td>   -1.649</td>\n",
       "</tr>\n",
       "<tr>\n",
       "  <th>ar.L3</th>  <td>    1.2956</td> <td>    0.052</td> <td>   24.885</td> <td> 0.000</td> <td>    1.194</td> <td>    1.398</td>\n",
       "</tr>\n",
       "<tr>\n",
       "  <th>ar.L4</th>  <td>   -1.2704</td> <td>    0.029</td> <td>  -43.385</td> <td> 0.000</td> <td>   -1.328</td> <td>   -1.213</td>\n",
       "</tr>\n",
       "<tr>\n",
       "  <th>ar.L5</th>  <td>    0.3516</td> <td>    0.036</td> <td>    9.816</td> <td> 0.000</td> <td>    0.281</td> <td>    0.422</td>\n",
       "</tr>\n",
       "<tr>\n",
       "  <th>ma.L1</th>  <td>   -1.5754</td> <td>    0.033</td> <td>  -47.090</td> <td> 0.000</td> <td>   -1.641</td> <td>   -1.510</td>\n",
       "</tr>\n",
       "<tr>\n",
       "  <th>ma.L2</th>  <td>    1.9370</td> <td>    0.038</td> <td>   51.157</td> <td> 0.000</td> <td>    1.863</td> <td>    2.011</td>\n",
       "</tr>\n",
       "<tr>\n",
       "  <th>ma.L3</th>  <td>   -1.7894</td> <td>    0.047</td> <td>  -38.412</td> <td> 0.000</td> <td>   -1.881</td> <td>   -1.698</td>\n",
       "</tr>\n",
       "<tr>\n",
       "  <th>ma.L4</th>  <td>    1.4299</td> <td>    0.034</td> <td>   42.303</td> <td> 0.000</td> <td>    1.364</td> <td>    1.496</td>\n",
       "</tr>\n",
       "<tr>\n",
       "  <th>ma.L5</th>  <td>   -0.7170</td> <td>    0.028</td> <td>  -25.577</td> <td> 0.000</td> <td>   -0.772</td> <td>   -0.662</td>\n",
       "</tr>\n",
       "<tr>\n",
       "  <th>sigma2</th> <td> 9.723e+09</td> <td> 1.56e-11</td> <td> 6.22e+20</td> <td> 0.000</td> <td> 9.72e+09</td> <td> 9.72e+09</td>\n",
       "</tr>\n",
       "</table>\n",
       "<table class=\"simpletable\">\n",
       "<tr>\n",
       "  <th>Ljung-Box (L1) (Q):</th>     <td>0.00</td> <th>  Jarque-Bera (JB):  </th> <td>20053.89</td>\n",
       "</tr>\n",
       "<tr>\n",
       "  <th>Prob(Q):</th>                <td>1.00</td> <th>  Prob(JB):          </th>   <td>0.00</td>  \n",
       "</tr>\n",
       "<tr>\n",
       "  <th>Heteroskedasticity (H):</th> <td>2.35</td> <th>  Skew:              </th>   <td>-0.27</td> \n",
       "</tr>\n",
       "<tr>\n",
       "  <th>Prob(H) (two-sided):</th>    <td>0.00</td> <th>  Kurtosis:          </th>   <td>21.91</td> \n",
       "</tr>\n",
       "</table><br/><br/>Warnings:<br/>[1] Covariance matrix calculated using the outer product of gradients (complex-step).<br/>[2] Covariance matrix is singular or near-singular, with condition number 1.79e+36. Standard errors may be unstable."
      ],
      "text/plain": [
       "<class 'statsmodels.iolib.summary.Summary'>\n",
       "\"\"\"\n",
       "                               SARIMAX Results                                \n",
       "==============================================================================\n",
       "Dep. Variable:                  sales   No. Observations:                 1346\n",
       "Model:                 ARIMA(5, 1, 5)   Log Likelihood              -17234.967\n",
       "Date:                Tue, 31 Oct 2023   AIC                          34491.933\n",
       "Time:                        20:57:51   BIC                          34549.179\n",
       "Sample:                             0   HQIC                         34513.376\n",
       "                               - 1346                                         \n",
       "Covariance Type:                  opg                                         \n",
       "==============================================================================\n",
       "                 coef    std err          z      P>|z|      [0.025      0.975]\n",
       "------------------------------------------------------------------------------\n",
       "ar.L1          1.1406      0.037     31.120      0.000       1.069       1.212\n",
       "ar.L2         -1.7077      0.030    -56.845      0.000      -1.767      -1.649\n",
       "ar.L3          1.2956      0.052     24.885      0.000       1.194       1.398\n",
       "ar.L4         -1.2704      0.029    -43.385      0.000      -1.328      -1.213\n",
       "ar.L5          0.3516      0.036      9.816      0.000       0.281       0.422\n",
       "ma.L1         -1.5754      0.033    -47.090      0.000      -1.641      -1.510\n",
       "ma.L2          1.9370      0.038     51.157      0.000       1.863       2.011\n",
       "ma.L3         -1.7894      0.047    -38.412      0.000      -1.881      -1.698\n",
       "ma.L4          1.4299      0.034     42.303      0.000       1.364       1.496\n",
       "ma.L5         -0.7170      0.028    -25.577      0.000      -0.772      -0.662\n",
       "sigma2      9.723e+09   1.56e-11   6.22e+20      0.000    9.72e+09    9.72e+09\n",
       "===================================================================================\n",
       "Ljung-Box (L1) (Q):                   0.00   Jarque-Bera (JB):             20053.89\n",
       "Prob(Q):                              1.00   Prob(JB):                         0.00\n",
       "Heteroskedasticity (H):               2.35   Skew:                            -0.27\n",
       "Prob(H) (two-sided):                  0.00   Kurtosis:                        21.91\n",
       "===================================================================================\n",
       "\n",
       "Warnings:\n",
       "[1] Covariance matrix calculated using the outer product of gradients (complex-step).\n",
       "[2] Covariance matrix is singular or near-singular, with condition number 1.79e+36. Standard errors may be unstable.\n",
       "\"\"\""
      ]
     },
     "execution_count": 40,
     "metadata": {},
     "output_type": "execute_result"
    }
   ],
   "source": [
    "model = ARIMA(train_data['sales'], order=(5, 1, 5))\n",
    "model=model.fit()\n",
    "model.summary()"
   ]
  },
  {
   "cell_type": "markdown",
   "id": "7065f5f6",
   "metadata": {},
   "source": [
    "# Model Diagnostic and Residual Analysis"
   ]
  },
  {
   "cell_type": "code",
   "execution_count": 40,
   "id": "653c3226",
   "metadata": {
    "scrolled": true
   },
   "outputs": [
    {
     "data": {
      "image/png": "[encoded data removed]",
      "text/plain": [
       "<Figure size 720x432 with 1 Axes>"
      ]
     },
     "metadata": {
      "needs_background": "light"
     },
     "output_type": "display_data"
    }
   ],
   "source": [
    "# Compute the autocorrelation\n",
    "autocorrelation = sm.tsa.acf(train_data['sales_diff'], nlags=20)\n",
    "\n",
    "# Plot the autocorrelation chart\n",
    "plt.figure(figsize=(10, 6))\n",
    "plt.stem(range(len(autocorrelation)), autocorrelation, use_line_collection=True)\n",
    "plt.xlabel('Lag')\n",
    "plt.ylabel('Autocorrelation')\n",
    "plt.title('Autocorrelation Chart')\n",
    "plt.show()"
   ]
  },
  {
   "cell_type": "code",
   "execution_count": 67,
   "id": "5596404f",
   "metadata": {},
   "outputs": [],
   "source": [
    "ts = train_data['sales_diff']"
   ]
  },
  {
   "cell_type": "code",
   "execution_count": 69,
   "id": "d231fb14",
   "metadata": {},
   "outputs": [
    {
     "name": "stdout",
     "output_type": "stream",
     "text": [
      "ADF Statistic: -8.913964240293112\n",
      "p-value: 1.0852820354513177e-14\n"
     ]
    }
   ],
   "source": [
    "# Perform the ADF test\n",
    "result = sm.tsa.adfuller(ts)\n",
    "\n",
    "# Extract and print the test statistics and p-value\n",
    "adf_statistic = result[0]\n",
    "p_value = result[1]\n",
    "print(\"ADF Statistic:\", adf_statistic)\n",
    "print(\"p-value:\", p_value)"
   ]
  },
  {
   "cell_type": "markdown",
   "id": "82cc56f1",
   "metadata": {},
   "source": [
    "In this case, the ADF statistic is highly negative (\n",
    "−\n",
    "8.913964240293112\n",
    "−8.913964240293112) and the p-value (\n",
    "1.0852820354513177\n",
    "×\n",
    "1\n",
    "0\n",
    "−\n",
    "14\n",
    "1.0852820354513177×10 \n",
    "−14\n",
    " ) is extremely small, much smaller than commonly used significance levels like \n",
    "0.01\n",
    "0.01 or \n",
    "0.05\n",
    "0.05. This small p-value indicates strong evidence against the null hypothesis. Therefore, you can reject the null hypothesis and conclude that the time series data is stationary."
   ]
  },
  {
   "cell_type": "code",
   "execution_count": 61,
   "id": "855bc6ef",
   "metadata": {},
   "outputs": [
    {
     "name": "stderr",
     "output_type": "stream",
     "text": [
      "C:\\Users\\HP\\anaconda3\\lib\\site-packages\\statsmodels\\graphics\\tsaplots.py:348: FutureWarning: The default method 'yw' can produce PACF values outside of the [-1,1] interval. After 0.13, the default will change tounadjusted Yule-Walker ('ywm'). You can use this method now by setting method='ywm'.\n",
      "  warnings.warn(\n"
     ]
    },
    {
     "data": {
      "image/png": "[encoded data removed]",
      "text/plain": [
       "<Figure size 720x288 with 2 Axes>"
      ]
     },
     "metadata": {
      "needs_background": "light"
     },
     "output_type": "display_data"
    }
   ],
   "source": [
    "# Plot the Autocorrelation Function (ACF)\n",
    "plt.figure(figsize=(10, 4))\n",
    "ax1 = plt.subplot(121)\n",
    "plot_acf(train_data['sales_diff'], ax=ax1)\n",
    "\n",
    "\n",
    "# Plot the Partial Autocorrelation Function (PACF)\n",
    "ax2 = plt.subplot(122)\n",
    "plot_pacf(train_data['sales_diff'], ax=ax2)\n",
    "\n",
    "plt.tight_layout()\n",
    "plt.show()"
   ]
  },
  {
   "cell_type": "code",
   "execution_count": 43,
   "id": "0ec37965",
   "metadata": {},
   "outputs": [],
   "source": [
    "df.set_index('date', inplace=True)"
   ]
  },
  {
   "cell_type": "code",
   "execution_count": 47,
   "id": "20dfc595",
   "metadata": {},
   "outputs": [
    {
     "data": {
      "text/html": [
       "<div>\n",
       "<style scoped>\n",
       "    .dataframe tbody tr th:only-of-type {\n",
       "        vertical-align: middle;\n",
       "    }\n",
       "\n",
       "    .dataframe tbody tr th {\n",
       "        vertical-align: top;\n",
       "    }\n",
       "\n",
       "    .dataframe thead th {\n",
       "        text-align: right;\n",
       "    }\n",
       "</style>\n",
       "<table border=\"1\" class=\"dataframe\">\n",
       "  <thead>\n",
       "    <tr style=\"text-align: right;\">\n",
       "      <th></th>\n",
       "      <th>sales</th>\n",
       "      <th>onpromotion</th>\n",
       "      <th>sales_diff</th>\n",
       "    </tr>\n",
       "    <tr>\n",
       "      <th>date</th>\n",
       "      <th></th>\n",
       "      <th></th>\n",
       "      <th></th>\n",
       "    </tr>\n",
       "  </thead>\n",
       "  <tbody>\n",
       "    <tr>\n",
       "      <th>2013-01-02</th>\n",
       "      <td>4.960924e+05</td>\n",
       "      <td>0</td>\n",
       "      <td>493580.798945</td>\n",
       "    </tr>\n",
       "    <tr>\n",
       "      <th>2013-01-03</th>\n",
       "      <td>3.614612e+05</td>\n",
       "      <td>0</td>\n",
       "      <td>-134631.186820</td>\n",
       "    </tr>\n",
       "    <tr>\n",
       "      <th>2013-01-04</th>\n",
       "      <td>3.544597e+05</td>\n",
       "      <td>0</td>\n",
       "      <td>-7001.554031</td>\n",
       "    </tr>\n",
       "    <tr>\n",
       "      <th>2013-01-05</th>\n",
       "      <td>4.773501e+05</td>\n",
       "      <td>0</td>\n",
       "      <td>122890.444136</td>\n",
       "    </tr>\n",
       "    <tr>\n",
       "      <th>2013-01-06</th>\n",
       "      <td>5.196954e+05</td>\n",
       "      <td>0</td>\n",
       "      <td>42345.279859</td>\n",
       "    </tr>\n",
       "    <tr>\n",
       "      <th>...</th>\n",
       "      <td>...</td>\n",
       "      <td>...</td>\n",
       "      <td>...</td>\n",
       "    </tr>\n",
       "    <tr>\n",
       "      <th>2016-09-07</th>\n",
       "      <td>7.385439e+05</td>\n",
       "      <td>12437</td>\n",
       "      <td>-13039.108073</td>\n",
       "    </tr>\n",
       "    <tr>\n",
       "      <th>2016-09-08</th>\n",
       "      <td>5.958493e+05</td>\n",
       "      <td>5757</td>\n",
       "      <td>-142694.618389</td>\n",
       "    </tr>\n",
       "    <tr>\n",
       "      <th>2016-09-09</th>\n",
       "      <td>6.589690e+05</td>\n",
       "      <td>11435</td>\n",
       "      <td>63119.728358</td>\n",
       "    </tr>\n",
       "    <tr>\n",
       "      <th>2016-09-10</th>\n",
       "      <td>9.159386e+05</td>\n",
       "      <td>6595</td>\n",
       "      <td>256969.532081</td>\n",
       "    </tr>\n",
       "    <tr>\n",
       "      <th>2016-09-11</th>\n",
       "      <td>1.017369e+06</td>\n",
       "      <td>7187</td>\n",
       "      <td>101430.665217</td>\n",
       "    </tr>\n",
       "  </tbody>\n",
       "</table>\n",
       "<p>1346 rows × 3 columns</p>\n",
       "</div>"
      ],
      "text/plain": [
       "                   sales  onpromotion     sales_diff\n",
       "date                                                \n",
       "2013-01-02  4.960924e+05            0  493580.798945\n",
       "2013-01-03  3.614612e+05            0 -134631.186820\n",
       "2013-01-04  3.544597e+05            0   -7001.554031\n",
       "2013-01-05  4.773501e+05            0  122890.444136\n",
       "2013-01-06  5.196954e+05            0   42345.279859\n",
       "...                  ...          ...            ...\n",
       "2016-09-07  7.385439e+05        12437  -13039.108073\n",
       "2016-09-08  5.958493e+05         5757 -142694.618389\n",
       "2016-09-09  6.589690e+05        11435   63119.728358\n",
       "2016-09-10  9.159386e+05         6595  256969.532081\n",
       "2016-09-11  1.017369e+06         7187  101430.665217\n",
       "\n",
       "[1346 rows x 3 columns]"
      ]
     },
     "execution_count": 47,
     "metadata": {},
     "output_type": "execute_result"
    }
   ],
   "source": [
    "train_data"
   ]
  },
  {
   "cell_type": "code",
   "execution_count": 57,
   "id": "6afdb93d",
   "metadata": {},
   "outputs": [
    {
     "data": {
      "text/html": [
       "<div>\n",
       "<style scoped>\n",
       "    .dataframe tbody tr th:only-of-type {\n",
       "        vertical-align: middle;\n",
       "    }\n",
       "\n",
       "    .dataframe tbody tr th {\n",
       "        vertical-align: top;\n",
       "    }\n",
       "\n",
       "    .dataframe thead th {\n",
       "        text-align: right;\n",
       "    }\n",
       "</style>\n",
       "<table border=\"1\" class=\"dataframe\">\n",
       "  <thead>\n",
       "    <tr style=\"text-align: right;\">\n",
       "      <th></th>\n",
       "      <th>date</th>\n",
       "      <th>sales</th>\n",
       "      <th>onpromotion</th>\n",
       "      <th>sales_diff</th>\n",
       "    </tr>\n",
       "  </thead>\n",
       "  <tbody>\n",
       "    <tr>\n",
       "      <th>1347</th>\n",
       "      <td>2016-09-12</td>\n",
       "      <td>678776.459126</td>\n",
       "      <td>5902</td>\n",
       "      <td>-338592.765140</td>\n",
       "    </tr>\n",
       "    <tr>\n",
       "      <th>1348</th>\n",
       "      <td>2016-09-13</td>\n",
       "      <td>603427.946974</td>\n",
       "      <td>7836</td>\n",
       "      <td>-75348.512152</td>\n",
       "    </tr>\n",
       "    <tr>\n",
       "      <th>1349</th>\n",
       "      <td>2016-09-14</td>\n",
       "      <td>624262.071976</td>\n",
       "      <td>13238</td>\n",
       "      <td>20834.125002</td>\n",
       "    </tr>\n",
       "    <tr>\n",
       "      <th>1350</th>\n",
       "      <td>2016-09-15</td>\n",
       "      <td>568324.812986</td>\n",
       "      <td>8373</td>\n",
       "      <td>-55937.258990</td>\n",
       "    </tr>\n",
       "    <tr>\n",
       "      <th>1351</th>\n",
       "      <td>2016-09-16</td>\n",
       "      <td>691912.601466</td>\n",
       "      <td>14453</td>\n",
       "      <td>123587.788480</td>\n",
       "    </tr>\n",
       "    <tr>\n",
       "      <th>...</th>\n",
       "      <td>...</td>\n",
       "      <td>...</td>\n",
       "      <td>...</td>\n",
       "      <td>...</td>\n",
       "    </tr>\n",
       "    <tr>\n",
       "      <th>1679</th>\n",
       "      <td>2017-08-11</td>\n",
       "      <td>826373.722022</td>\n",
       "      <td>14179</td>\n",
       "      <td>174986.810052</td>\n",
       "    </tr>\n",
       "    <tr>\n",
       "      <th>1680</th>\n",
       "      <td>2017-08-12</td>\n",
       "      <td>792630.535079</td>\n",
       "      <td>8312</td>\n",
       "      <td>-33743.186943</td>\n",
       "    </tr>\n",
       "    <tr>\n",
       "      <th>1681</th>\n",
       "      <td>2017-08-13</td>\n",
       "      <td>865639.677471</td>\n",
       "      <td>9283</td>\n",
       "      <td>73009.142392</td>\n",
       "    </tr>\n",
       "    <tr>\n",
       "      <th>1682</th>\n",
       "      <td>2017-08-14</td>\n",
       "      <td>760922.406081</td>\n",
       "      <td>8043</td>\n",
       "      <td>-104717.271390</td>\n",
       "    </tr>\n",
       "    <tr>\n",
       "      <th>1683</th>\n",
       "      <td>2017-08-15</td>\n",
       "      <td>762661.935939</td>\n",
       "      <td>10605</td>\n",
       "      <td>1739.529858</td>\n",
       "    </tr>\n",
       "  </tbody>\n",
       "</table>\n",
       "<p>337 rows × 4 columns</p>\n",
       "</div>"
      ],
      "text/plain": [
       "           date          sales  onpromotion     sales_diff\n",
       "1347 2016-09-12  678776.459126         5902 -338592.765140\n",
       "1348 2016-09-13  603427.946974         7836  -75348.512152\n",
       "1349 2016-09-14  624262.071976        13238   20834.125002\n",
       "1350 2016-09-15  568324.812986         8373  -55937.258990\n",
       "1351 2016-09-16  691912.601466        14453  123587.788480\n",
       "...         ...            ...          ...            ...\n",
       "1679 2017-08-11  826373.722022        14179  174986.810052\n",
       "1680 2017-08-12  792630.535079         8312  -33743.186943\n",
       "1681 2017-08-13  865639.677471         9283   73009.142392\n",
       "1682 2017-08-14  760922.406081         8043 -104717.271390\n",
       "1683 2017-08-15  762661.935939        10605    1739.529858\n",
       "\n",
       "[337 rows x 4 columns]"
      ]
     },
     "execution_count": 57,
     "metadata": {},
     "output_type": "execute_result"
    }
   ],
   "source": [
    "test_data"
   ]
  },
  {
   "cell_type": "markdown",
   "id": "2ba65073",
   "metadata": {},
   "source": [
    "# Model Forecasting"
   ]
  },
  {
   "cell_type": "code",
   "execution_count": 42,
   "id": "7a26f986",
   "metadata": {
    "scrolled": true
   },
   "outputs": [
    {
     "name": "stdout",
     "output_type": "stream",
     "text": [
      "2016-09-16    815039.393242\n",
      "2016-09-17    754406.329274\n",
      "2016-09-18    756147.480371\n",
      "2016-09-19    679069.574977\n",
      "2016-09-20    736352.936917\n",
      "                  ...      \n",
      "2017-08-14    731054.409042\n",
      "2017-08-15    841323.445334\n",
      "2017-08-16    876717.824423\n",
      "2017-08-17    774733.896312\n",
      "2017-08-18    773161.284382\n",
      "Freq: D, Name: predicted_mean, Length: 337, dtype: float64\n"
     ]
    },
    {
     "name": "stderr",
     "output_type": "stream",
     "text": [
      "C:\\Users\\HP\\anaconda3\\lib\\site-packages\\statsmodels\\tsa\\base\\tsa_model.py:834: ValueWarning: No supported index is available. Prediction results will be given with an integer index beginning at `start`.\n",
      "  return get_prediction_index(\n"
     ]
    }
   ],
   "source": [
    "index_dates=pd.date_range(start='2016-09-16', end='2017-08-18')\n",
    "start=len(train_data)\n",
    "end=len(train_data)+len(test_data)-1\n",
    "pred=model.predict(start=start, end=end, typ='levels')\n",
    "pred.index=index_dates\n",
    "print(pred)"
   ]
  },
  {
   "cell_type": "code",
   "execution_count": 60,
   "id": "0615de24",
   "metadata": {},
   "outputs": [
    {
     "data": {
      "text/plain": [
       "<matplotlib.legend.Legend at 0x26d51a49ac0>"
      ]
     },
     "execution_count": 60,
     "metadata": {},
     "output_type": "execute_result"
    },
    {
     "data": {
      "image/png": "[encoded data removed]",
      "text/plain": [
       "<Figure size 864x432 with 1 Axes>"
      ]
     },
     "metadata": {
      "needs_background": "light"
     },
     "output_type": "display_data"
    }
   ],
   "source": [
    "# Plot of forecasted data\n",
    "plt.figure(figsize=(12, 6))\n",
    "plt.plot(train_data['sales'], label='Data')\n",
    "plt.plot(pred, label='Forecast', color='red')\n",
    "plt.title('ARIMA Forecasting')\n",
    "plt.xlabel('Date')\n",
    "plt.ylabel('Value')\n",
    "plt.legend()"
   ]
  },
  {
   "cell_type": "code",
   "execution_count": 51,
   "id": "16b7a981",
   "metadata": {
    "scrolled": true
   },
   "outputs": [
    {
     "name": "stderr",
     "output_type": "stream",
     "text": [
      "C:\\Users\\HP\\anaconda3\\lib\\site-packages\\statsmodels\\tsa\\base\\tsa_model.py:471: ValueWarning: An unsupported index was provided and will be ignored when e.g. forecasting.\n",
      "  self._init_dates(dates, freq)\n",
      "C:\\Users\\HP\\anaconda3\\lib\\site-packages\\statsmodels\\tsa\\base\\tsa_model.py:471: ValueWarning: An unsupported index was provided and will be ignored when e.g. forecasting.\n",
      "  self._init_dates(dates, freq)\n",
      "C:\\Users\\HP\\anaconda3\\lib\\site-packages\\statsmodels\\tsa\\base\\tsa_model.py:471: ValueWarning: An unsupported index was provided and will be ignored when e.g. forecasting.\n",
      "  self._init_dates(dates, freq)\n",
      "C:\\Users\\HP\\anaconda3\\lib\\site-packages\\statsmodels\\base\\model.py:604: ConvergenceWarning: Maximum Likelihood optimization failed to converge. Check mle_retvals\n",
      "  warnings.warn(\"Maximum Likelihood optimization failed to \"\n"
     ]
    },
    {
     "data": {
      "text/html": [
       "<table class=\"simpletable\">\n",
       "<caption>SARIMAX Results</caption>\n",
       "<tr>\n",
       "  <th>Dep. Variable:</th>         <td>sales</td>      <th>  No. Observations:  </th>    <td>1683</td>   \n",
       "</tr>\n",
       "<tr>\n",
       "  <th>Model:</th>            <td>ARIMA(5, 1, 5)</td>  <th>  Log Likelihood     </th> <td>-21753.106</td>\n",
       "</tr>\n",
       "<tr>\n",
       "  <th>Date:</th>            <td>Tue, 31 Oct 2023</td> <th>  AIC                </th>  <td>43528.213</td>\n",
       "</tr>\n",
       "<tr>\n",
       "  <th>Time:</th>                <td>21:07:36</td>     <th>  BIC                </th>  <td>43587.918</td>\n",
       "</tr>\n",
       "<tr>\n",
       "  <th>Sample:</th>                  <td>0</td>        <th>  HQIC               </th>  <td>43550.327</td>\n",
       "</tr>\n",
       "<tr>\n",
       "  <th></th>                      <td> - 1683</td>     <th>                     </th>      <td> </td>    \n",
       "</tr>\n",
       "<tr>\n",
       "  <th>Covariance Type:</th>        <td>opg</td>       <th>                     </th>      <td> </td>    \n",
       "</tr>\n",
       "</table>\n",
       "<table class=\"simpletable\">\n",
       "<tr>\n",
       "     <td></td>       <th>coef</th>     <th>std err</th>      <th>z</th>      <th>P>|z|</th>  <th>[0.025</th>    <th>0.975]</th>  \n",
       "</tr>\n",
       "<tr>\n",
       "  <th>ar.L1</th>  <td>    1.0437</td> <td>    0.032</td> <td>   32.625</td> <td> 0.000</td> <td>    0.981</td> <td>    1.106</td>\n",
       "</tr>\n",
       "<tr>\n",
       "  <th>ar.L2</th>  <td>   -1.6359</td> <td>    0.027</td> <td>  -61.685</td> <td> 0.000</td> <td>   -1.688</td> <td>   -1.584</td>\n",
       "</tr>\n",
       "<tr>\n",
       "  <th>ar.L3</th>  <td>    1.1553</td> <td>    0.046</td> <td>   25.388</td> <td> 0.000</td> <td>    1.066</td> <td>    1.245</td>\n",
       "</tr>\n",
       "<tr>\n",
       "  <th>ar.L4</th>  <td>   -1.1969</td> <td>    0.025</td> <td>  -46.994</td> <td> 0.000</td> <td>   -1.247</td> <td>   -1.147</td>\n",
       "</tr>\n",
       "<tr>\n",
       "  <th>ar.L5</th>  <td>    0.2532</td> <td>    0.031</td> <td>    8.149</td> <td> 0.000</td> <td>    0.192</td> <td>    0.314</td>\n",
       "</tr>\n",
       "<tr>\n",
       "  <th>ma.L1</th>  <td>   -1.5743</td> <td>    0.028</td> <td>  -55.369</td> <td> 0.000</td> <td>   -1.630</td> <td>   -1.519</td>\n",
       "</tr>\n",
       "<tr>\n",
       "  <th>ma.L2</th>  <td>    1.9416</td> <td>    0.033</td> <td>   58.369</td> <td> 0.000</td> <td>    1.876</td> <td>    2.007</td>\n",
       "</tr>\n",
       "<tr>\n",
       "  <th>ma.L3</th>  <td>   -1.7800</td> <td>    0.043</td> <td>  -41.443</td> <td> 0.000</td> <td>   -1.864</td> <td>   -1.696</td>\n",
       "</tr>\n",
       "<tr>\n",
       "  <th>ma.L4</th>  <td>    1.4396</td> <td>    0.032</td> <td>   45.489</td> <td> 0.000</td> <td>    1.378</td> <td>    1.502</td>\n",
       "</tr>\n",
       "<tr>\n",
       "  <th>ma.L5</th>  <td>   -0.7367</td> <td>    0.025</td> <td>  -29.147</td> <td> 0.000</td> <td>   -0.786</td> <td>   -0.687</td>\n",
       "</tr>\n",
       "<tr>\n",
       "  <th>sigma2</th> <td> 1.264e+10</td> <td> 7.45e-12</td> <td>  1.7e+21</td> <td> 0.000</td> <td> 1.26e+10</td> <td> 1.26e+10</td>\n",
       "</tr>\n",
       "</table>\n",
       "<table class=\"simpletable\">\n",
       "<tr>\n",
       "  <th>Ljung-Box (L1) (Q):</th>     <td>0.03</td> <th>  Jarque-Bera (JB):  </th> <td>50420.17</td>\n",
       "</tr>\n",
       "<tr>\n",
       "  <th>Prob(Q):</th>                <td>0.87</td> <th>  Prob(JB):          </th>   <td>0.00</td>  \n",
       "</tr>\n",
       "<tr>\n",
       "  <th>Heteroskedasticity (H):</th> <td>2.96</td> <th>  Skew:              </th>   <td>-1.04</td> \n",
       "</tr>\n",
       "<tr>\n",
       "  <th>Prob(H) (two-sided):</th>    <td>0.00</td> <th>  Kurtosis:          </th>   <td>29.74</td> \n",
       "</tr>\n",
       "</table><br/><br/>Warnings:<br/>[1] Covariance matrix calculated using the outer product of gradients (complex-step).<br/>[2] Covariance matrix is singular or near-singular, with condition number 1.48e+36. Standard errors may be unstable."
      ],
      "text/plain": [
       "<class 'statsmodels.iolib.summary.Summary'>\n",
       "\"\"\"\n",
       "                               SARIMAX Results                                \n",
       "==============================================================================\n",
       "Dep. Variable:                  sales   No. Observations:                 1683\n",
       "Model:                 ARIMA(5, 1, 5)   Log Likelihood              -21753.106\n",
       "Date:                Tue, 31 Oct 2023   AIC                          43528.213\n",
       "Time:                        21:07:36   BIC                          43587.918\n",
       "Sample:                             0   HQIC                         43550.327\n",
       "                               - 1683                                         \n",
       "Covariance Type:                  opg                                         \n",
       "==============================================================================\n",
       "                 coef    std err          z      P>|z|      [0.025      0.975]\n",
       "------------------------------------------------------------------------------\n",
       "ar.L1          1.0437      0.032     32.625      0.000       0.981       1.106\n",
       "ar.L2         -1.6359      0.027    -61.685      0.000      -1.688      -1.584\n",
       "ar.L3          1.1553      0.046     25.388      0.000       1.066       1.245\n",
       "ar.L4         -1.1969      0.025    -46.994      0.000      -1.247      -1.147\n",
       "ar.L5          0.2532      0.031      8.149      0.000       0.192       0.314\n",
       "ma.L1         -1.5743      0.028    -55.369      0.000      -1.630      -1.519\n",
       "ma.L2          1.9416      0.033     58.369      0.000       1.876       2.007\n",
       "ma.L3         -1.7800      0.043    -41.443      0.000      -1.864      -1.696\n",
       "ma.L4          1.4396      0.032     45.489      0.000       1.378       1.502\n",
       "ma.L5         -0.7367      0.025    -29.147      0.000      -0.786      -0.687\n",
       "sigma2      1.264e+10   7.45e-12    1.7e+21      0.000    1.26e+10    1.26e+10\n",
       "===================================================================================\n",
       "Ljung-Box (L1) (Q):                   0.03   Jarque-Bera (JB):             50420.17\n",
       "Prob(Q):                              0.87   Prob(JB):                         0.00\n",
       "Heteroskedasticity (H):               2.96   Skew:                            -1.04\n",
       "Prob(H) (two-sided):                  0.00   Kurtosis:                        29.74\n",
       "===================================================================================\n",
       "\n",
       "Warnings:\n",
       "[1] Covariance matrix calculated using the outer product of gradients (complex-step).\n",
       "[2] Covariance matrix is singular or near-singular, with condition number 1.48e+36. Standard errors may be unstable.\n",
       "\"\"\""
      ]
     },
     "execution_count": 51,
     "metadata": {},
     "output_type": "execute_result"
    }
   ],
   "source": [
    "#Retrain the model\n",
    "model2=sm.tsa.ARIMA(df['sales'], order=(5, 1, 5))\n",
    "model2=model2.fit()\n",
    "model2.summary()"
   ]
  },
  {
   "cell_type": "markdown",
   "id": "1a18325f",
   "metadata": {},
   "source": [
    "Forecasting future data"
   ]
  },
  {
   "cell_type": "code",
   "execution_count": 61,
   "id": "bbafde3c",
   "metadata": {},
   "outputs": [
    {
     "name": "stdout",
     "output_type": "stream",
     "text": [
      "DatetimeIndex(['2017-08-18', '2017-08-19', '2017-08-20', '2017-08-21',\n",
      "               '2017-08-22', '2017-08-23', '2017-08-24', '2017-08-25',\n",
      "               '2017-08-26', '2017-08-27', '2017-08-28', '2017-08-29',\n",
      "               '2017-08-30', '2017-08-31', '2017-09-01', '2017-09-02',\n",
      "               '2017-09-03', '2017-09-04', '2017-09-05', '2017-09-06',\n",
      "               '2017-09-07', '2017-09-08', '2017-09-09', '2017-09-10',\n",
      "               '2017-09-11', '2017-09-12', '2017-09-13', '2017-09-14',\n",
      "               '2017-09-15', '2017-09-16', '2017-09-17'],\n",
      "              dtype='datetime64[ns]', freq='D')\n",
      "2017-08-18    836327.585320\n",
      "2017-08-19    772736.715050\n",
      "2017-08-20    732303.370252\n",
      "2017-08-21    842758.568418\n",
      "2017-08-22    874601.000314\n",
      "2017-08-23    772901.329835\n",
      "2017-08-24    774640.639202\n",
      "2017-08-25    837017.854375\n",
      "2017-08-26    771817.179988\n",
      "2017-08-27    733576.163745\n",
      "2017-08-28    844151.160914\n",
      "2017-08-29    872467.670842\n",
      "2017-08-30    771149.901633\n",
      "2017-08-31    776150.180548\n",
      "2017-09-01    837645.016100\n",
      "2017-09-02    770885.253414\n",
      "2017-09-03    734872.824227\n",
      "2017-09-04    845500.556739\n",
      "2017-09-05    870319.045081\n",
      "2017-09-06    769479.268912\n",
      "2017-09-07    777687.352057\n",
      "2017-09-08    838209.165094\n",
      "2017-09-09    769943.194481\n",
      "2017-09-10    736193.315415\n",
      "2017-09-11    846806.106060\n",
      "2017-09-12    868156.351713\n",
      "2017-09-13    767889.059072\n",
      "2017-09-14    779249.629060\n",
      "2017-09-15    838710.462803\n",
      "2017-09-16    768993.226641\n",
      "2017-09-17    737537.531979\n",
      "Freq: D, Name: Arima_predictions, dtype: float64\n"
     ]
    },
    {
     "name": "stderr",
     "output_type": "stream",
     "text": [
      "C:\\Users\\HP\\anaconda3\\lib\\site-packages\\statsmodels\\tsa\\base\\tsa_model.py:834: ValueWarning: No supported index is available. Prediction results will be given with an integer index beginning at `start`.\n",
      "  return get_prediction_index(\n"
     ]
    }
   ],
   "source": [
    "index_future_dates=pd.date_range(start='2017-08-18', end='2017-09-17')\n",
    "print(index_future_dates)\n",
    "\n",
    "pred2=model.predict(start=len(df), end=len(df)+30, typ='levels').rename('Arima_predictions')\n",
    "pred2.index=index_future_dates\n",
    "print(pred2)"
   ]
  },
  {
   "cell_type": "code",
   "execution_count": 62,
   "id": "ffc24fcd",
   "metadata": {},
   "outputs": [
    {
     "data": {
      "text/plain": [
       "<matplotlib.legend.Legend at 0x26d51c99430>"
      ]
     },
     "execution_count": 62,
     "metadata": {},
     "output_type": "execute_result"
    },
    {
     "data": {
      "image/png": "[encoded data removed]",
      "text/plain": [
       "<Figure size 864x432 with 1 Axes>"
      ]
     },
     "metadata": {
      "needs_background": "light"
     },
     "output_type": "display_data"
    }
   ],
   "source": [
    "# Plot of forecasted data\n",
    "plt.figure(figsize=(12, 6))\n",
    "plt.plot(df['sales'], label='Data')\n",
    "plt.plot(pred2, label='Forecast', color='red')\n",
    "plt.title('ARIMA Forecasting')\n",
    "plt.xlabel('Date')\n",
    "plt.ylabel('Value')\n",
    "plt.legend()"
   ]
  },
  {
   "cell_type": "markdown",
   "id": "7d1b2b96",
   "metadata": {},
   "source": [
    "# Model Evaluation"
   ]
  },
  {
   "cell_type": "markdown",
   "id": "08c06929",
   "metadata": {},
   "source": [
    "Root Mean Square Error"
   ]
  },
  {
   "cell_type": "code",
   "execution_count": 63,
   "id": "42943c61",
   "metadata": {},
   "outputs": [
    {
     "name": "stdout",
     "output_type": "stream",
     "text": [
      "166537.09512012807\n"
     ]
    }
   ],
   "source": [
    "from sklearn.metrics import mean_squared_error\n",
    "from math import sqrt\n",
    "rmse=sqrt(mean_squared_error(pred, test_data['sales']))\n",
    "print(rmse)"
   ]
  },
  {
   "cell_type": "code",
   "execution_count": 64,
   "id": "8fd36439",
   "metadata": {},
   "outputs": [
    {
     "data": {
      "text/plain": [
       "1451001.4614620002"
      ]
     },
     "execution_count": 64,
     "metadata": {},
     "output_type": "execute_result"
    }
   ],
   "source": [
    "data_range =test_data['sales'].max() - test_data['sales'].min()\n",
    "data_range"
   ]
  },
  {
   "cell_type": "code",
   "execution_count": 65,
   "id": "f69c6a90",
   "metadata": {},
   "outputs": [
    {
     "name": "stdout",
     "output_type": "stream",
     "text": [
      "RMSE is smaller than the data range. Model predictions are relatively accurate.\n"
     ]
    }
   ],
   "source": [
    "rmse_value = 166537.095\n",
    "\n",
    "if rmse_value < data_range:\n",
    "    print(\"RMSE is smaller than the data range. Model predictions are relatively accurate.\")\n",
    "else:\n",
    "    print(\"RMSE is comparable to or larger than the data range. Model predictions might not be very accurate.\")\n"
   ]
  },
  {
   "cell_type": "code",
   "execution_count": null,
   "id": "7a713572",
   "metadata": {},
   "outputs": [],
   "source": []
  }
 ],
 "metadata": {
  "kernelspec": {
   "display_name": "Python 3 (ipykernel)",
   "language": "python",
   "name": "python3"
  },
  "language_info": {
   "codemirror_mode": {
    "name": "ipython",
    "version": 3
   },
   "file_extension": ".py",
   "mimetype": "text/x-python",
   "name": "python",
   "nbconvert_exporter": "python",
   "pygments_lexer": "ipython3",
   "version": "3.9.12"
  }
 },
 "nbformat": 4,
 "nbformat_minor": 5
}
